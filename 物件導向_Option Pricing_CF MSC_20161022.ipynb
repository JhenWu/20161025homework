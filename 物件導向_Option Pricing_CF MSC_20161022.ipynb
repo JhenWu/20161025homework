{
 "cells": [
  {
   "cell_type": "code",
   "execution_count": 15,
   "metadata": {
    "collapsed": false
   },
   "outputs": [],
   "source": [
    "class MSCmodel:\n",
    "    def __init__(self, S0, K, T, r, sigma):\n",
    "        self.S0 = S0  \n",
    "        self.K = K \n",
    "        self.T = T  \n",
    "        self.r = r\n",
    "        self.sigma =sigma\n",
    "                   \n",
    "    def option_MSC(self, N = 10000):\n",
    "        from numpy import random, sqrt, exp, maximum, sum\n",
    "        z=random.standard_normal(N)\n",
    "        ST=S0*exp((r-0.5*sigma**2)*T+sigma*sqrt(T)*z)\n",
    "        CT=maximum(ST-K,0)\n",
    "        C0=sum(exp(-r*T)*CT)/N\n",
    "        PT=maximum(K-ST,0)\n",
    "        P0=sum(exp(-r*T)*PT)/N\n",
    "        self.display(C0,P0)\n",
    "            \n",
    "    def display(self,P0,C0):\n",
    "        print('call:'+str(C0)+'\\nput:' + str(P0))        \n",
    "        "
   ]
  },
  {
   "cell_type": "code",
   "execution_count": 16,
   "metadata": {
    "collapsed": false
   },
   "outputs": [
    {
     "name": "stdout",
     "output_type": "stream",
     "text": [
      "call:7.87765954572\n",
      "put:8.11801540054\n",
      "call:7.92704509778\n",
      "put:7.91670075869\n"
     ]
    }
   ],
   "source": [
    "S0 = 100\n",
    "K = 105\n",
    "T = 1\n",
    "r = 0.05\n",
    "sigma = 0.2\n",
    "N = 100000\n",
    "\n",
    "BS = MSCmodel(S0, K, T, r, sigma)\n",
    "BS.option_MSC()\n",
    "BS.option_MSC(10000)\n",
    "\n"
   ]
  },
  {
   "cell_type": "code",
   "execution_count": 17,
   "metadata": {
    "collapsed": true
   },
   "outputs": [],
   "source": [
    "def Fund1(S0,K,r,T,sigma):\n",
    "    from math import log, sqrt, exp\n",
    "    return (log(S0/K)+(r+0.5*sigma**2)*T)/(sigma*sqrt(T))\n",
    "    \n",
    "def Fund2(S0,K,r,T,sigma):\n",
    "    from math import log, sqrt, exp\n",
    "    return Fund1(S0,K,r,T,sigma)-sigma*sqrt(T)\n",
    "\n",
    "\n",
    "class CFmodel:\n",
    "    def __init__(self,S0,K,r,T,sigma):\n",
    "        self.S0=S0\n",
    "        self.K=K\n",
    "        self.r=r\n",
    "        self.T=T\n",
    "        self.sigma=sigma\n",
    "    \n",
    "    def option_CF(self):\n",
    "        from scipy import stats\n",
    "        from math import log, sqrt, exp\n",
    "        C0=S0*stats.norm.cdf(Fund1(S0,K,r,T,sigma),0,1)-exp(-r*T)*K*stats.norm.cdf(Fund2(S0,K,r,T,sigma),0,1)\n",
    "        P0=exp(-r*T)*K*stats.norm.cdf(-Fund2(S0,K,r,T,sigma),0,1)-S0*stats.norm.cdf(-Fund1(S0,K,r,T,sigma),0,1)\n",
    "        self.display(C0,P0)        \n",
    "\n",
    "    def display(self,C0,P0):\n",
    "        print('Call: ' + str(C0),'\\nPut:'+str(P0))"
   ]
  },
  {
   "cell_type": "code",
   "execution_count": 18,
   "metadata": {
    "collapsed": false
   },
   "outputs": [
    {
     "name": "stdout",
     "output_type": "stream",
     "text": [
      "Call: 7.39841334916 \n",
      "Put:9.80595411213\n"
     ]
    }
   ],
   "source": [
    "S0=100\n",
    "K=105\n",
    "r=0.05\n",
    "T=0.5\n",
    "sigma=0.3\n",
    "\n",
    "CF=CFmodel(S0,K,r,T,sigma)\n",
    "CF.option_CF()"
   ]
  },
  {
   "cell_type": "code",
   "execution_count": null,
   "metadata": {
    "collapsed": true
   },
   "outputs": [],
   "source": []
  }
 ],
 "metadata": {
  "kernelspec": {
   "display_name": "Python [Root]",
   "language": "python",
   "name": "Python [Root]"
  },
  "language_info": {
   "codemirror_mode": {
    "name": "ipython",
    "version": 3
   },
   "file_extension": ".py",
   "mimetype": "text/x-python",
   "name": "python",
   "nbconvert_exporter": "python",
   "pygments_lexer": "ipython3",
   "version": "3.5.2"
  }
 },
 "nbformat": 4,
 "nbformat_minor": 0
}
